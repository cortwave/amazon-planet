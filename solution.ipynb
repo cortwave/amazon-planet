{
 "cells": [
  {
   "cell_type": "code",
   "execution_count": 1,
   "metadata": {},
   "outputs": [
    {
     "name": "stderr",
     "output_type": "stream",
     "text": [
      "Using TensorFlow backend.\n",
      "/home/westside/anaconda3/lib/python3.6/site-packages/sklearn/cross_validation.py:44: DeprecationWarning: This module was deprecated in version 0.18 in favor of the model_selection module into which all the refactored classes and functions are moved. Also note that the interface of the new CV iterators are different from that of this module. This module will be removed in 0.20.\n",
      "  \"This module will be removed in 0.20.\", DeprecationWarning)\n"
     ]
    }
   ],
   "source": [
    "import sys\n",
    "\n",
    "from data_helper import ImageGenerator, ValidGenerator, get_train_matrices, get_test_matrices\n",
    "from sklearn.cross_validation import train_test_split\n",
    "from keras_helper import KerasModel\n",
    "import gc\n",
    "import seaborn as sns\n",
    "import matplotlib.pyplot as plt\n",
    "import matplotlib.image as mpimg\n",
    "import numpy as np\n",
    "import pandas as pd\n",
    "from itertools import chain\n",
    "\n",
    "%matplotlib inline\n",
    "%config InlineBackend.figure_format = 'retina'"
   ]
  },
  {
   "cell_type": "code",
   "execution_count": 2,
   "metadata": {
    "collapsed": true
   },
   "outputs": [],
   "source": [
    "img_size = (224, 224)\n",
    "img_channels = 3\n",
    "output_size = 17\n",
    "batch_size = 128\n",
    "batches = 850 * 128 // batch_size"
   ]
  },
  {
   "cell_type": "code",
   "execution_count": 3,
   "metadata": {},
   "outputs": [
    {
     "name": "stderr",
     "output_type": "stream",
     "text": [
      "100%|██████████| 40479/40479 [02:08<00:00, 315.08it/s]\n"
     ]
    },
    {
     "data": {
      "text/plain": [
       "7"
      ]
     },
     "execution_count": 3,
     "metadata": {},
     "output_type": "execute_result"
    }
   ],
   "source": [
    "X_train, y_train, labels_map = get_train_matrices(\"../data/train_v2.csv\", \"../data/train-jpg\", img_size)\n",
    "X_train, X_valid, y_train, y_valid = train_test_split(X_train, y_train, test_size=0.2, random_state=21)\n",
    "validation_generator = ValidGenerator().get_valid_generator(X_valid, y_valid, batch_size=batch_size)\n",
    "generator = ImageGenerator()\n",
    "flow = generator.get_train_generator(X_train, y_train, batch_size=batch_size)\n",
    "gc.collect()"
   ]
  },
  {
   "cell_type": "code",
   "execution_count": null,
   "metadata": {
    "collapsed": true
   },
   "outputs": [],
   "source": [
    "from tensorflow.contrib.keras.api.keras.callbacks import ModelCheckpoint\n",
    "\n",
    "filepath=\"weights.best.hdf5\"\n",
    "checkpoint = ModelCheckpoint(filepath, monitor='val_acc', verbose=1, save_best_only=True)"
   ]
  },
  {
   "cell_type": "code",
   "execution_count": null,
   "metadata": {
    "scrolled": true
   },
   "outputs": [
    {
     "name": "stdout",
     "output_type": "stream",
     "text": [
      "Epoch 1/30\n",
      "113/850 [==>...........................] - ETA: 735s - loss: 0.5222 - acc: 0.7944"
     ]
    }
   ],
   "source": [
    "model = KerasModel(img_size)\n",
    "pretrain = True\n",
    "\n",
    "if pretrain:\n",
    "    learn_rates = [0.001, 0.0001, 0.00001, 0.000001]\n",
    "    epochs_list = [30, 20, 10, 5]\n",
    "    train_losses, val_losses = [], []\n",
    "\n",
    "    for lr, epochs in zip(learn_rates, epochs_list):\n",
    "        tmp_train_losses, tmp_val_losses, fbeta_score, thresholds = model.fit(flow, epochs, lr, validation_generator, y_valid, validation_batch = batch_size, train_callbacks=[checkpoint], batches=batches)\n",
    "        train_losses += tmp_train_losses\n",
    "        val_losses += tmp_val_losses"
   ]
  },
  {
   "cell_type": "code",
   "execution_count": null,
   "metadata": {
    "collapsed": true
   },
   "outputs": [],
   "source": [
    "model.load_weights(\"weights.best.hdf5\")\n",
    "print(\"Weights loaded\")"
   ]
  },
  {
   "cell_type": "code",
   "execution_count": null,
   "metadata": {
    "collapsed": true
   },
   "outputs": [],
   "source": [
    "plt.plot(train_losses, label='Training loss')\n",
    "plt.plot(val_losses, label='Validation loss')\n",
    "plt.legend();"
   ]
  },
  {
   "cell_type": "code",
   "execution_count": null,
   "metadata": {
    "collapsed": true
   },
   "outputs": [],
   "source": [
    "fbeta_score"
   ]
  },
  {
   "cell_type": "code",
   "execution_count": null,
   "metadata": {
    "collapsed": true,
    "scrolled": false
   },
   "outputs": [],
   "source": [
    "del X_train, y_train\n",
    "gc.collect()\n",
    "\n",
    "x_test, x_test_filename = get_test_matrices(\"../data/test-jpg\", img_size)\n",
    "# Predict the labels of our x_test images\n",
    "predictions = model.predict(x_test)\n",
    "\n",
    "del x_test\n",
    "gc.collect()\n",
    "\n",
    "x_test, x_test_filename_additional = get_test_matrices(\"../data/test-jpg-additional\", img_size)\n",
    "new_predictions = model.predict(x_test)\n",
    "\n",
    "del x_test\n",
    "gc.collect()\n",
    "\n",
    "predictions = np.vstack((predictions, new_predictions))\n",
    "x_test_filename = np.hstack((x_test_filename, x_test_filename_additional))\n",
    "print(\"Predictions shape: {}\\nFiles name shape: {}\\n1st predictions entry:\\n{}\".format(predictions.shape, \n",
    "                                                                              x_test_filename.shape,\n",
    "                                                                              predictions[0]))"
   ]
  },
  {
   "cell_type": "code",
   "execution_count": null,
   "metadata": {
    "collapsed": true
   },
   "outputs": [],
   "source": [
    "fb_score, thresholds = model.get_fbeta_score(validation_generator, y_valid, batch_size)\n",
    "\n",
    "tags_pred = np.array(predictions).T\n",
    "_, axs = plt.subplots(5, 4, figsize=(15, 20))\n",
    "axs = axs.ravel()\n",
    "\n",
    "for i, tag_vals in enumerate(tags_pred):\n",
    "    sns.boxplot(tag_vals, orient='v', palette='Set2', ax=axs[i]).set_title(labels_map[i])"
   ]
  },
  {
   "cell_type": "code",
   "execution_count": null,
   "metadata": {
    "collapsed": true
   },
   "outputs": [],
   "source": [
    "predicted_labels = model.map_predictions(predictions, labels_map, thresholds)"
   ]
  },
  {
   "cell_type": "code",
   "execution_count": null,
   "metadata": {
    "collapsed": true
   },
   "outputs": [],
   "source": [
    "tags_list = [None] * len(predicted_labels)\n",
    "for i, tags in enumerate(predicted_labels):\n",
    "    tags_list[i] = ' '.join(map(str, tags))\n",
    "\n",
    "final_data = [[filename.split(\".\")[0], tags] for filename, tags in zip(x_test_filename, tags_list)]"
   ]
  },
  {
   "cell_type": "code",
   "execution_count": null,
   "metadata": {
    "collapsed": true
   },
   "outputs": [],
   "source": [
    "final_df = pd.DataFrame(final_data, columns=['image_name', 'tags'])\n",
    "final_df.head()"
   ]
  },
  {
   "cell_type": "code",
   "execution_count": null,
   "metadata": {
    "collapsed": true
   },
   "outputs": [],
   "source": [
    "tags_s = pd.Series(list(chain.from_iterable(predicted_labels))).value_counts()\n",
    "fig, ax = plt.subplots(figsize=(16, 8))\n",
    "sns.barplot(x=tags_s, y=tags_s.index, orient='h');"
   ]
  },
  {
   "cell_type": "code",
   "execution_count": null,
   "metadata": {
    "collapsed": true
   },
   "outputs": [],
   "source": [
    "final_df.to_csv('submission_file.csv', index=False)\n",
    "model.close()"
   ]
  },
  {
   "cell_type": "code",
   "execution_count": null,
   "metadata": {
    "collapsed": true
   },
   "outputs": [],
   "source": []
  }
 ],
 "metadata": {
  "anaconda-cloud": {},
  "kernelspec": {
   "display_name": "Python 3",
   "language": "python",
   "name": "python3"
  },
  "language_info": {
   "codemirror_mode": {
    "name": "ipython",
    "version": 3
   },
   "file_extension": ".py",
   "mimetype": "text/x-python",
   "name": "python",
   "nbconvert_exporter": "python",
   "pygments_lexer": "ipython3",
   "version": "3.6.1"
  }
 },
 "nbformat": 4,
 "nbformat_minor": 1
}

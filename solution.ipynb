{
 "cells": [
  {
   "cell_type": "code",
   "execution_count": 26,
   "metadata": {},
   "outputs": [],
   "source": [
    "import sys\n",
    "\n",
    "from data_helper import ImageGenerator, get_train_matrices, get_test_matrices\n",
    "from sklearn.cross_validation import train_test_split\n",
    "from keras_helper import KerasModel\n",
    "import gc\n",
    "import seaborn as sns\n",
    "import matplotlib.pyplot as plt\n",
    "import matplotlib.image as mpimg\n",
    "import numpy as np\n",
    "import pandas as pd\n",
    "from itertools import chain\n",
    "\n",
    "%matplotlib inline\n",
    "%config InlineBackend.figure_format = 'retina'"
   ]
  },
  {
   "cell_type": "code",
   "execution_count": 2,
   "metadata": {
    "collapsed": true
   },
   "outputs": [],
   "source": [
    "img_size = (64, 64)\n",
    "img_channels = 3\n",
    "output_size = 17"
   ]
  },
  {
   "cell_type": "code",
   "execution_count": 3,
   "metadata": {},
   "outputs": [
    {
     "name": "stderr",
     "output_type": "stream",
     "text": [
      "100%|██████████| 40479/40479 [01:27<00:00, 464.89it/s]\n"
     ]
    }
   ],
   "source": [
    "x_train, y_train, labels_map = get_train_matrices(\"../../planet-amazon-deforestation/input/train_v2.csv\", \"../../planet-amazon-deforestation/input/train-jpg\", img_size)\n",
    "X_train, X_valid, y_train, y_valid = train_test_split(x_train, y_train, test_size=0.2)"
   ]
  },
  {
   "cell_type": "code",
   "execution_count": 4,
   "metadata": {
    "collapsed": true
   },
   "outputs": [],
   "source": [
    "generator = ImageGenerator()\n",
    "flow = generator.get_train_generator(X_train, y_train)\n",
    "validation_data = (X_valid, y_valid)"
   ]
  },
  {
   "cell_type": "code",
   "execution_count": 5,
   "metadata": {
    "collapsed": true
   },
   "outputs": [],
   "source": [
    "from tensorflow.contrib.keras.api.keras.callbacks import ModelCheckpoint\n",
    "\n",
    "filepath=\"weights.best.hdf5\"\n",
    "checkpoint = ModelCheckpoint(filepath, monitor='val_acc', verbose=1, save_best_only=True)"
   ]
  },
  {
   "cell_type": "code",
   "execution_count": 6,
   "metadata": {},
   "outputs": [
    {
     "name": "stdout",
     "output_type": "stream",
     "text": [
      "Epoch 1/1\n",
      "4/5 [=======================>......] - ETA: 2s - loss: 0.9686 - acc: 0.5045Epoch 00000: val_acc improved from -inf to 0.50755, saving model to weights.best.hdf5\n",
      "5/5 [==============================] - 78s - loss: 0.9729 - acc: 0.5041 - val_loss: 0.9807 - val_acc: 0.5075\n"
     ]
    }
   ],
   "source": [
    "model = KerasModel(img_size)\n",
    "learn_rates = [0.001]\n",
    "epochs_list = [1]\n",
    "train_losses, val_losses = [], []\n",
    "\n",
    "for lr, epochs in zip(learn_rates, epochs_list):\n",
    "    tmp_train_losses, tmp_val_losses, fbeta_score = model.fit(flow, epochs, lr, (X_valid, y_valid), train_callbacks=[checkpoint])\n",
    "    train_losses += tmp_train_losses\n",
    "    val_losses += tmp_val_losses"
   ]
  },
  {
   "cell_type": "code",
   "execution_count": 7,
   "metadata": {},
   "outputs": [
    {
     "name": "stdout",
     "output_type": "stream",
     "text": [
      "Weights loaded\n"
     ]
    }
   ],
   "source": [
    "model.load_weights(\"weights.best.hdf5\")\n",
    "print(\"Weights loaded\")"
   ]
  },
  {
   "cell_type": "code",
   "execution_count": 8,
   "metadata": {},
   "outputs": [
    {
     "data": {
      "image/png": "[encoded data removed]",
      "text/plain": [
       "<matplotlib.figure.Figure at 0x111023080>"
      ]
     },
     "metadata": {
      "image/png": {
       "height": 248,
       "width": 381
      }
     },
     "output_type": "display_data"
    }
   ],
   "source": [
    "plt.plot(train_losses, label='Training loss')\n",
    "plt.plot(val_losses, label='Validation loss')\n",
    "plt.legend();"
   ]
  },
  {
   "cell_type": "code",
   "execution_count": 9,
   "metadata": {},
   "outputs": [
    {
     "data": {
      "text/plain": [
       "0.31677249297408688"
      ]
     },
     "execution_count": 9,
     "metadata": {},
     "output_type": "execute_result"
    }
   ],
   "source": [
    "fbeta_score"
   ]
  },
  {
   "cell_type": "code",
   "execution_count": 27,
   "metadata": {},
   "outputs": [
    {
     "name": "stderr",
     "output_type": "stream",
     "text": [
      "\n",
      "  0%|          | 0/40669 [00:00<?, ?it/s]\u001b[A\n",
      "  0%|          | 41/40669 [00:00<01:39, 408.80it/s]\u001b[A\n",
      "  0%|          | 90/40669 [00:00<01:34, 427.35it/s]\u001b[A\n",
      "  0%|          | 144/40669 [00:00<01:29, 454.90it/s]\u001b[A\n",
      "  0%|          | 198/40669 [00:00<01:25, 475.93it/s]\u001b[A\n",
      "  1%|          | 251/40669 [00:00<01:22, 488.12it/s]\u001b[A\n",
      "  1%|          | 305/40669 [00:00<01:20, 501.13it/s]\u001b[A\n",
      "  1%|          | 357/40669 [00:00<01:20, 502.93it/s]\u001b[A\n",
      "  1%|          | 408/40669 [00:00<01:20, 502.87it/s]\u001b[A\n",
      "  1%|          | 459/40669 [00:00<01:19, 504.34it/s]\u001b[A\n",
      "  1%|          | 508/40669 [00:01<01:20, 499.64it/s]\u001b[A\n",
      "  1%|▏         | 558/40669 [00:01<01:20, 498.35it/s]\u001b[A\n",
      "  1%|▏         | 609/40669 [00:01<01:19, 501.18it/s]\u001b[A\n",
      "  2%|▏         | 661/40669 [00:01<01:19, 505.03it/s]\u001b[A\n",
      "  2%|▏         | 714/40669 [00:01<01:18, 511.44it/s]\u001b[A\n",
      "  2%|▏         | 765/40669 [00:01<01:18, 509.30it/s]\u001b[A\n",
      "  2%|▏         | 816/40669 [00:01<01:20, 493.79it/s]\u001b[A\n",
      "  2%|▏         | 867/40669 [00:01<01:20, 496.48it/s]\u001b[A\n",
      "  2%|▏         | 917/40669 [00:01<01:20, 494.83it/s]\u001b[A\n",
      "  2%|▏         | 967/40669 [00:01<01:20, 491.67it/s]\u001b[A\n",
      "  3%|▎         | 1020/40669 [00:02<01:19, 499.28it/s]\u001b[A\n",
      "  3%|▎         | 1070/40669 [00:02<01:20, 490.74it/s]\u001b[A\n",
      "  3%|▎         | 1122/40669 [00:02<01:19, 498.64it/s]\u001b[A\n",
      "  3%|▎         | 1172/40669 [00:02<01:19, 498.22it/s]\u001b[A\n",
      "  3%|▎         | 1222/40669 [00:02<01:19, 498.17it/s]\u001b[A\n",
      "  3%|▎         | 1274/40669 [00:02<01:18, 502.58it/s]\u001b[A\n",
      "  3%|▎         | 1326/40669 [00:02<01:17, 505.08it/s]\u001b[A\n",
      "  3%|▎         | 1380/40669 [00:02<01:16, 512.93it/s]\u001b[A\n",
      "  4%|▎         | 1432/40669 [00:02<01:16, 514.19it/s]\u001b[A\n",
      "  4%|▎         | 1484/40669 [00:02<01:16, 515.47it/s]\u001b[A\n",
      "  4%|▍         | 1536/40669 [00:03<01:17, 507.95it/s]\u001b[A\n",
      "  4%|▍         | 1587/40669 [00:03<01:16, 507.84it/s]\u001b[A\n",
      "  4%|▍         | 1638/40669 [00:03<01:20, 487.18it/s]\u001b[A\n",
      "  4%|▍         | 1691/40669 [00:03<01:18, 496.90it/s]\u001b[A\n",
      "  4%|▍         | 1744/40669 [00:03<01:17, 503.62it/s]\u001b[A\n",
      "  4%|▍         | 1796/40669 [00:03<01:16, 508.37it/s]\u001b[A\n",
      "  5%|▍         | 1847/40669 [00:03<01:16, 505.90it/s]\u001b[A\n",
      "  5%|▍         | 1898/40669 [00:03<01:16, 505.81it/s]\u001b[A\n",
      "  5%|▍         | 1949/40669 [00:03<01:16, 504.06it/s]\u001b[A\n",
      "  5%|▍         | 2000/40669 [00:03<01:18, 494.18it/s]\u001b[A\n",
      "  5%|▌         | 2051/40669 [00:04<01:17, 497.18it/s]\u001b[A\n",
      "  5%|▌         | 2103/40669 [00:04<01:16, 501.27it/s]\u001b[A\n",
      "  5%|▌         | 2156/40669 [00:04<01:15, 507.46it/s]\u001b[A\n",
      "  5%|▌         | 2208/40669 [00:04<01:15, 509.61it/s]\u001b[A\n",
      "  6%|▌         | 2261/40669 [00:04<01:14, 514.69it/s]\u001b[A\n",
      "  6%|▌         | 2314/40669 [00:04<01:14, 516.74it/s]\u001b[A\n",
      "  6%|▌         | 2368/40669 [00:04<01:13, 523.28it/s]\u001b[A\n",
      "  6%|▌         | 2421/40669 [00:04<01:13, 521.16it/s]\u001b[A\n",
      "  6%|▌         | 2474/40669 [00:04<01:13, 517.70it/s]\u001b[A\n",
      "  6%|▌         | 2526/40669 [00:05<01:14, 509.24it/s]\u001b[A\n",
      "  6%|▋         | 2577/40669 [00:05<01:14, 508.21it/s]\u001b[A\n",
      "  6%|▋         | 2631/40669 [00:05<01:13, 517.16it/s]\u001b[A\n",
      "  7%|▋         | 2683/40669 [00:05<01:14, 511.31it/s]\u001b[A\n",
      "  7%|▋         | 2737/40669 [00:05<01:13, 518.46it/s]\u001b[A\n",
      "  7%|▋         | 2790/40669 [00:05<01:12, 519.09it/s]\u001b[A\n",
      "100%|██████████| 40669/40669 [01:25<00:00, 474.80it/s]\n",
      "  0%|          | 0/40669 [00:00<?, ?it/s]"
     ]
    },
    {
     "ename": "TypeError",
     "evalue": "Cannot handle this data type",
     "output_type": "error",
     "traceback": [
      "\u001b[0;31m---------------------------------------------------------------------------\u001b[0m",
      "\u001b[0;31mKeyError\u001b[0m                                  Traceback (most recent call last)",
      "\u001b[0;32m//anaconda/lib/python3.5/site-packages/PIL/Image.py\u001b[0m in \u001b[0;36mfromarray\u001b[0;34m(obj, mode)\u001b[0m\n\u001b[1;32m   2166\u001b[0m             \u001b[0mtypekey\u001b[0m \u001b[0;34m=\u001b[0m \u001b[0;34m(\u001b[0m\u001b[0;36m1\u001b[0m\u001b[0;34m,\u001b[0m \u001b[0;36m1\u001b[0m\u001b[0;34m)\u001b[0m \u001b[0;34m+\u001b[0m \u001b[0mshape\u001b[0m\u001b[0;34m[\u001b[0m\u001b[0;36m2\u001b[0m\u001b[0;34m:\u001b[0m\u001b[0;34m]\u001b[0m\u001b[0;34m,\u001b[0m \u001b[0marr\u001b[0m\u001b[0;34m[\u001b[0m\u001b[0;34m'typestr'\u001b[0m\u001b[0;34m]\u001b[0m\u001b[0;34m\u001b[0m\u001b[0m\n\u001b[0;32m-> 2167\u001b[0;31m             \u001b[0mmode\u001b[0m\u001b[0;34m,\u001b[0m \u001b[0mrawmode\u001b[0m \u001b[0;34m=\u001b[0m \u001b[0m_fromarray_typemap\u001b[0m\u001b[0;34m[\u001b[0m\u001b[0mtypekey\u001b[0m\u001b[0;34m]\u001b[0m\u001b[0;34m\u001b[0m\u001b[0m\n\u001b[0m\u001b[1;32m   2168\u001b[0m         \u001b[0;32mexcept\u001b[0m \u001b[0mKeyError\u001b[0m\u001b[0;34m:\u001b[0m\u001b[0;34m\u001b[0m\u001b[0m\n",
      "\u001b[0;31mKeyError\u001b[0m: ((1, 1, 64), '<f4')",
      "\nDuring handling of the above exception, another exception occurred:\n",
      "\u001b[0;31mTypeError\u001b[0m                                 Traceback (most recent call last)",
      "\u001b[0;32m<ipython-input-27-40f837098ca8>\u001b[0m in \u001b[0;36m<module>\u001b[0;34m()\u001b[0m\n\u001b[1;32m      4\u001b[0m \u001b[0mx_test\u001b[0m\u001b[0;34m,\u001b[0m \u001b[0mx_test_filename\u001b[0m \u001b[0;34m=\u001b[0m \u001b[0mget_test_matrices\u001b[0m\u001b[0;34m(\u001b[0m\u001b[0;34m\"/Users/westside/dev/python/planet-amazon-deforestation/input/test-jpg\"\u001b[0m\u001b[0;34m,\u001b[0m \u001b[0mimg_size\u001b[0m\u001b[0;34m)\u001b[0m\u001b[0;34m\u001b[0m\u001b[0m\n\u001b[1;32m      5\u001b[0m \u001b[0;31m# Predict the labels of our x_test images\u001b[0m\u001b[0;34m\u001b[0m\u001b[0;34m\u001b[0m\u001b[0m\n\u001b[0;32m----> 6\u001b[0;31m \u001b[0mpredictions\u001b[0m \u001b[0;34m=\u001b[0m \u001b[0mmodel\u001b[0m\u001b[0;34m.\u001b[0m\u001b[0mpredict\u001b[0m\u001b[0;34m(\u001b[0m\u001b[0mx_test\u001b[0m\u001b[0;34m)\u001b[0m\u001b[0;34m\u001b[0m\u001b[0m\n\u001b[0m\u001b[1;32m      7\u001b[0m \u001b[0;34m\u001b[0m\u001b[0m\n\u001b[1;32m      8\u001b[0m \u001b[0;32mdel\u001b[0m \u001b[0mx_test\u001b[0m\u001b[0;34m\u001b[0m\u001b[0m\n",
      "\u001b[0;32m/Users/westside/dev/python/jupyter/amazon-planet/keras_helper.py\u001b[0m in \u001b[0;36mpredict\u001b[0;34m(self, x_test)\u001b[0m\n\u001b[1;32m     92\u001b[0m \u001b[0;34m\u001b[0m\u001b[0m\n\u001b[1;32m     93\u001b[0m \u001b[0;34m\u001b[0m\u001b[0m\n\u001b[0;32m---> 94\u001b[0;31m     \u001b[0;32mdef\u001b[0m \u001b[0mpredict\u001b[0m\u001b[0;34m(\u001b[0m\u001b[0mself\u001b[0m\u001b[0;34m,\u001b[0m \u001b[0mx_test\u001b[0m\u001b[0;34m)\u001b[0m\u001b[0;34m:\u001b[0m\u001b[0;34m\u001b[0m\u001b[0m\n\u001b[0m\u001b[1;32m     95\u001b[0m         \u001b[0;32mreturn\u001b[0m \u001b[0;34m[\u001b[0m\u001b[0mself\u001b[0m\u001b[0;34m.\u001b[0m\u001b[0mpredict_image\u001b[0m\u001b[0;34m(\u001b[0m\u001b[0mimg\u001b[0m\u001b[0;34m)\u001b[0m \u001b[0;32mfor\u001b[0m \u001b[0mimg\u001b[0m \u001b[0;32min\u001b[0m \u001b[0mtqdm\u001b[0m\u001b[0;34m(\u001b[0m\u001b[0mx_test\u001b[0m\u001b[0;34m)\u001b[0m\u001b[0;34m]\u001b[0m\u001b[0;34m\u001b[0m\u001b[0m\n\u001b[1;32m     96\u001b[0m \u001b[0;34m\u001b[0m\u001b[0m\n",
      "\u001b[0;32m/Users/westside/dev/python/jupyter/amazon-planet/keras_helper.py\u001b[0m in \u001b[0;36m<listcomp>\u001b[0;34m(.0)\u001b[0m\n\u001b[1;32m     92\u001b[0m \u001b[0;34m\u001b[0m\u001b[0m\n\u001b[1;32m     93\u001b[0m \u001b[0;34m\u001b[0m\u001b[0m\n\u001b[0;32m---> 94\u001b[0;31m     \u001b[0;32mdef\u001b[0m \u001b[0mpredict\u001b[0m\u001b[0;34m(\u001b[0m\u001b[0mself\u001b[0m\u001b[0;34m,\u001b[0m \u001b[0mx_test\u001b[0m\u001b[0;34m)\u001b[0m\u001b[0;34m:\u001b[0m\u001b[0;34m\u001b[0m\u001b[0m\n\u001b[0m\u001b[1;32m     95\u001b[0m         \u001b[0;32mreturn\u001b[0m \u001b[0;34m[\u001b[0m\u001b[0mself\u001b[0m\u001b[0;34m.\u001b[0m\u001b[0mpredict_image\u001b[0m\u001b[0;34m(\u001b[0m\u001b[0mimg\u001b[0m\u001b[0;34m)\u001b[0m \u001b[0;32mfor\u001b[0m \u001b[0mimg\u001b[0m \u001b[0;32min\u001b[0m \u001b[0mtqdm\u001b[0m\u001b[0;34m(\u001b[0m\u001b[0mx_test\u001b[0m\u001b[0;34m)\u001b[0m\u001b[0;34m]\u001b[0m\u001b[0;34m\u001b[0m\u001b[0m\n\u001b[1;32m     96\u001b[0m \u001b[0;34m\u001b[0m\u001b[0m\n",
      "\u001b[0;32m/Users/westside/dev/python/jupyter/amazon-planet/keras_helper.py\u001b[0m in \u001b[0;36mpredict_image\u001b[0;34m(self, image)\u001b[0m\n\u001b[1;32m     85\u001b[0m \u001b[0;34m\u001b[0m\u001b[0m\n\u001b[1;32m     86\u001b[0m     \u001b[0;32mdef\u001b[0m \u001b[0mpredict_image\u001b[0m\u001b[0;34m(\u001b[0m\u001b[0mself\u001b[0m\u001b[0;34m,\u001b[0m \u001b[0mimage\u001b[0m\u001b[0;34m)\u001b[0m\u001b[0;34m:\u001b[0m\u001b[0;34m\u001b[0m\u001b[0m\n\u001b[0;32m---> 87\u001b[0;31m         \u001b[0mimg\u001b[0m \u001b[0;34m=\u001b[0m \u001b[0mImage\u001b[0m\u001b[0;34m.\u001b[0m\u001b[0mfromarray\u001b[0m\u001b[0;34m(\u001b[0m\u001b[0mnp\u001b[0m\u001b[0;34m.\u001b[0m\u001b[0muint8\u001b[0m\u001b[0;34m(\u001b[0m\u001b[0mimage\u001b[0m \u001b[0;34m*\u001b[0m \u001b[0;36m255\u001b[0m\u001b[0;34m)\u001b[0m\u001b[0;34m)\u001b[0m\u001b[0;34m\u001b[0m\u001b[0m\n\u001b[0m\u001b[1;32m     88\u001b[0m         \u001b[0mimages\u001b[0m \u001b[0;34m=\u001b[0m \u001b[0;34m[\u001b[0m\u001b[0mimg\u001b[0m\u001b[0;34m.\u001b[0m\u001b[0mcopy\u001b[0m\u001b[0;34m(\u001b[0m\u001b[0;34m)\u001b[0m\u001b[0;34m.\u001b[0m\u001b[0mrotate\u001b[0m\u001b[0;34m(\u001b[0m\u001b[0mi\u001b[0m\u001b[0;34m)\u001b[0m \u001b[0;32mfor\u001b[0m \u001b[0mi\u001b[0m \u001b[0;32min\u001b[0m \u001b[0;34m[\u001b[0m\u001b[0;34m-\u001b[0m\u001b[0;36m90\u001b[0m\u001b[0;34m,\u001b[0m \u001b[0;36m90\u001b[0m\u001b[0;34m,\u001b[0m \u001b[0;36m180\u001b[0m\u001b[0;34m]\u001b[0m\u001b[0;34m]\u001b[0m\u001b[0;34m\u001b[0m\u001b[0m\n\u001b[1;32m     89\u001b[0m         \u001b[0mimages\u001b[0m\u001b[0;34m.\u001b[0m\u001b[0mappend\u001b[0m\u001b[0;34m(\u001b[0m\u001b[0mimg\u001b[0m\u001b[0;34m)\u001b[0m\u001b[0;34m\u001b[0m\u001b[0m\n",
      "\u001b[0;32m//anaconda/lib/python3.5/site-packages/PIL/Image.py\u001b[0m in \u001b[0;36mfromarray\u001b[0;34m(obj, mode)\u001b[0m\n\u001b[1;32m   2168\u001b[0m         \u001b[0;32mexcept\u001b[0m \u001b[0mKeyError\u001b[0m\u001b[0;34m:\u001b[0m\u001b[0;34m\u001b[0m\u001b[0m\n\u001b[1;32m   2169\u001b[0m             \u001b[0;31m# print typekey\u001b[0m\u001b[0;34m\u001b[0m\u001b[0;34m\u001b[0m\u001b[0m\n\u001b[0;32m-> 2170\u001b[0;31m             \u001b[0;32mraise\u001b[0m \u001b[0mTypeError\u001b[0m\u001b[0;34m(\u001b[0m\u001b[0;34m\"Cannot handle this data type\"\u001b[0m\u001b[0;34m)\u001b[0m\u001b[0;34m\u001b[0m\u001b[0m\n\u001b[0m\u001b[1;32m   2171\u001b[0m     \u001b[0;32melse\u001b[0m\u001b[0;34m:\u001b[0m\u001b[0;34m\u001b[0m\u001b[0m\n\u001b[1;32m   2172\u001b[0m         \u001b[0mrawmode\u001b[0m \u001b[0;34m=\u001b[0m \u001b[0mmode\u001b[0m\u001b[0;34m\u001b[0m\u001b[0m\n",
      "\u001b[0;31mTypeError\u001b[0m: Cannot handle this data type"
     ]
    }
   ],
   "source": [
    "# del x_train, y_train\n",
    "gc.collect()\n",
    "\n",
    "x_test, x_test_filename = get_test_matrices(\"/Users/westside/dev/python/planet-amazon-deforestation/input/test-jpg\", img_size)\n",
    "# Predict the labels of our x_test images\n",
    "predictions = model.predict(x_test)\n",
    "\n",
    "del x_test\n",
    "gc.collect()\n",
    "\n",
    "x_test, x_test_filename_additional = get_test_matrices(\"/Users/westside/dev/python/planet-amazon-deforestation/input/test-jpg-additional\", img_size)\n",
    "new_predictions = model.predict(x_test)\n",
    "\n",
    "del x_test\n",
    "gc.collect()\n",
    "\n",
    "predictions = np.vstack((predictions, new_predictions))\n",
    "x_test_filename = np.hstack((x_test_filename, x_test_filename_additional))\n",
    "print(\"Predictions shape: {}\\nFiles name shape: {}\\n1st predictions entry:\\n{}\".format(predictions.shape, \n",
    "                                                                              x_test_filename.shape,\n",
    "                                                                              predictions[0]))"
   ]
  },
  {
   "cell_type": "code",
   "execution_count": 31,
   "metadata": {},
   "outputs": [
    {
     "data": {
      "text/plain": [
       "array([[[ 61.,  72.,  65.],\n",
       "        [ 66.,  73.,  66.],\n",
       "        [ 68.,  76.,  67.],\n",
       "        ..., \n",
       "        [ 87.,  92.,  79.],\n",
       "        [ 88.,  95.,  80.],\n",
       "        [ 70.,  78.,  72.]],\n",
       "\n",
       "       [[ 63.,  75.,  68.],\n",
       "        [ 67.,  76.,  69.],\n",
       "        [ 73.,  82.,  70.],\n",
       "        ..., \n",
       "        [ 79.,  86.,  75.],\n",
       "        [ 78.,  87.,  77.],\n",
       "        [ 72.,  80.,  72.]],\n",
       "\n",
       "       [[ 66.,  77.,  70.],\n",
       "        [ 66.,  77.,  68.],\n",
       "        [ 70.,  80.,  69.],\n",
       "        ..., \n",
       "        [ 70.,  81.,  72.],\n",
       "        [ 72.,  81.,  73.],\n",
       "        [ 75.,  84.,  73.]],\n",
       "\n",
       "       ..., \n",
       "       [[ 74.,  80.,  70.],\n",
       "        [ 66.,  74.,  68.],\n",
       "        [ 66.,  77.,  68.],\n",
       "        ..., \n",
       "        [ 69.,  80.,  71.],\n",
       "        [ 69.,  79.,  71.],\n",
       "        [ 73.,  82.,  73.]],\n",
       "\n",
       "       [[ 70.,  78.,  70.],\n",
       "        [ 67.,  74.,  67.],\n",
       "        [ 66.,  75.,  66.],\n",
       "        ..., \n",
       "        [ 67.,  78.,  70.],\n",
       "        [ 70.,  81.,  71.],\n",
       "        [ 76.,  84.,  72.]],\n",
       "\n",
       "       [[ 67.,  75.,  67.],\n",
       "        [ 67.,  77.,  67.],\n",
       "        [ 68.,  80.,  67.],\n",
       "        ..., \n",
       "        [ 69.,  76.,  70.],\n",
       "        [ 74.,  81.,  72.],\n",
       "        [ 77.,  84.,  74.]]], dtype=float32)"
      ]
     },
     "execution_count": 31,
     "metadata": {},
     "output_type": "execute_result"
    }
   ],
   "source": [
    "from PIL import Image\n",
    "\n",
    "[Image.fromarray(np.uint8(i * 255)) for i in x_test]\n",
    "np.asarray(img.convert(\"RGB\"), dtype=np.float32)"
   ]
  },
  {
   "cell_type": "code",
   "execution_count": null,
   "metadata": {
    "collapsed": true
   },
   "outputs": [],
   "source": []
  },
  {
   "cell_type": "code",
   "execution_count": null,
   "metadata": {
    "collapsed": true
   },
   "outputs": [],
   "source": [
    "# For now we'll just put all thresholds to 0.2 \n",
    "thresholds = [0.2] * output_size\n",
    "\n",
    "# TODO complete\n",
    "tags_pred = np.array(predictions).T\n",
    "_, axs = plt.subplots(5, 4, figsize=(15, 20))\n",
    "axs = axs.ravel()\n",
    "\n",
    "for i, tag_vals in enumerate(tags_pred):\n",
    "    sns.boxplot(tag_vals, orient='v', palette='Set2', ax=axs[i]).set_title(labels_map[i])"
   ]
  },
  {
   "cell_type": "code",
   "execution_count": null,
   "metadata": {
    "collapsed": true
   },
   "outputs": [],
   "source": [
    "predicted_labels = model.map_predictions(predictions, labels_map, thresholds)"
   ]
  },
  {
   "cell_type": "code",
   "execution_count": null,
   "metadata": {
    "collapsed": true
   },
   "outputs": [],
   "source": [
    "tags_list = [None] * len(predicted_labels)\n",
    "for i, tags in enumerate(predicted_labels):\n",
    "    tags_list[i] = ' '.join(map(str, tags))\n",
    "\n",
    "final_data = [[filename.split(\".\")[0], tags] for filename, tags in zip(x_test_filename, tags_list)]"
   ]
  },
  {
   "cell_type": "code",
   "execution_count": null,
   "metadata": {
    "collapsed": true
   },
   "outputs": [],
   "source": [
    "final_df = pd.DataFrame(final_data, columns=['image_name', 'tags'])\n",
    "final_df.head()"
   ]
  },
  {
   "cell_type": "code",
   "execution_count": null,
   "metadata": {
    "collapsed": true
   },
   "outputs": [],
   "source": [
    "tags_s = pd.Series(list(chain.from_iterable(predicted_labels))).value_counts()\n",
    "fig, ax = plt.subplots(figsize=(16, 8))\n",
    "sns.barplot(x=tags_s, y=tags_s.index, orient='h');"
   ]
  },
  {
   "cell_type": "code",
   "execution_count": null,
   "metadata": {
    "collapsed": true
   },
   "outputs": [],
   "source": [
    "final_df.to_csv('../submission_file.csv', index=False)\n",
    "model.close()"
   ]
  },
  {
   "cell_type": "code",
   "execution_count": null,
   "metadata": {
    "collapsed": true
   },
   "outputs": [],
   "source": []
  }
 ],
 "metadata": {
  "anaconda-cloud": {},
  "kernelspec": {
   "display_name": "Python [default]",
   "language": "python",
   "name": "python3"
  },
  "language_info": {
   "codemirror_mode": {
    "name": "ipython",
    "version": 3
   },
   "file_extension": ".py",
   "mimetype": "text/x-python",
   "name": "python",
   "nbconvert_exporter": "python",
   "pygments_lexer": "ipython3",
   "version": "3.5.2"
  }
 },
 "nbformat": 4,
 "nbformat_minor": 1
}

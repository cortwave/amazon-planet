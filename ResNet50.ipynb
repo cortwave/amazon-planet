{
 "cells": [
  {
   "cell_type": "code",
   "execution_count": 1,
   "metadata": {},
   "outputs": [
    {
     "name": "stderr",
     "output_type": "stream",
     "text": [
      "Using TensorFlow backend.\n",
      "/home/westside/anaconda3/lib/python3.6/site-packages/sklearn/cross_validation.py:44: DeprecationWarning: This module was deprecated in version 0.18 in favor of the model_selection module into which all the refactored classes and functions are moved. Also note that the interface of the new CV iterators are different from that of this module. This module will be removed in 0.20.\n",
      "  \"This module will be removed in 0.20.\", DeprecationWarning)\n"
     ]
    }
   ],
   "source": [
    "from keras.applications.resnet50 import ResNet50\n",
    "from keras.layers import Dense, GlobalAveragePooling2D, Dropout, BatchNormalization\n",
    "from keras.models import Model\n",
    "from keras.optimizers import Adam\n",
    "from data_helper import ImageGenerator, get_train_matrices, get_test_matrices, ValidGenerator\n",
    "from sklearn.cross_validation import train_test_split"
   ]
  },
  {
   "cell_type": "code",
   "execution_count": 2,
   "metadata": {
    "collapsed": true
   },
   "outputs": [],
   "source": [
    "img_size = (224, 224)\n",
    "output_size = 17"
   ]
  },
  {
   "cell_type": "code",
   "execution_count": 4,
   "metadata": {},
   "outputs": [
    {
     "name": "stderr",
     "output_type": "stream",
     "text": [
      "100%|██████████| 40479/40479 [02:22<00:00, 284.40it/s]\n"
     ]
    }
   ],
   "source": [
    "x_train, y_train, labels_map = get_train_matrices(\"../data/train_v2.csv\", \"../data/train-jpg\", img_size)\n",
    "X_train, X_valid, y_train, y_valid = train_test_split(x_train, y_train, test_size=0.2)\n",
    "flow = ImageGenerator().get_train_generator(X_train, y_train)\n",
    "validation_generator = ValidGenerator().get_valid_generator(X_valid, y_valid)"
   ]
  },
  {
   "cell_type": "code",
   "execution_count": null,
   "metadata": {},
   "outputs": [
    {
     "name": "stderr",
     "output_type": "stream",
     "text": [
      "/home/westside/anaconda3/lib/python3.6/site-packages/ipykernel_launcher.py:14: UserWarning: Update your `Model` call to the Keras 2 API: `Model(inputs=Tensor(\"in..., outputs=Tensor(\"de...)`\n",
      "  \n",
      "/home/westside/anaconda3/lib/python3.6/site-packages/ipykernel_launcher.py:24: UserWarning: Update your `fit_generator` call to the Keras 2 API: `fit_generator(<keras.pre..., steps_per_epoch=260, validation_data=<keras.pre..., validation_steps=63, epochs=5)`\n"
     ]
    },
    {
     "name": "stdout",
     "output_type": "stream",
     "text": [
      "Epoch 1/5\n",
      "260/260 [==============================] - 256s - loss: 0.1741 - acc: 0.9337 - val_loss: 0.4217 - val_acc: 0.8134\n",
      "Epoch 2/5\n",
      "260/260 [==============================] - 248s - loss: 0.1447 - acc: 0.9451 - val_loss: 0.4052 - val_acc: 0.8416\n",
      "Epoch 3/5\n",
      "260/260 [==============================] - 248s - loss: 0.1382 - acc: 0.9474 - val_loss: 0.3617 - val_acc: 0.8532\n",
      "Epoch 4/5\n",
      "260/260 [==============================] - 248s - loss: 0.1360 - acc: 0.9482 - val_loss: 0.1425 - val_acc: 0.9435\n",
      "Epoch 5/5\n",
      "115/260 [============>.................] - ETA: 106s - loss: 0.1343 - acc: 0.9487"
     ]
    }
   ],
   "source": [
    "resnet = ResNet50(include_top=False, weights='imagenet')\n",
    "x = resnet.output\n",
    "\n",
    "x = GlobalAveragePooling2D()(x)\n",
    "\n",
    "x = Dense(1024, activation='relu')(x)\n",
    "x = Dropout(0.5)(x)\n",
    "\n",
    "x = Dense(512, activation='relu')(x)\n",
    "x = Dropout(0.5)(x)\n",
    "\n",
    "predictions = Dense(output_size, activation='sigmoid')(x)\n",
    "\n",
    "model = Model(input=resnet.input, output=predictions)\n",
    "\n",
    "for layer in resnet.layers:\n",
    "    layer.trainable = False\n",
    "\n",
    "epochs = [5, 5]\n",
    "learning_rates = [0.001, 0.0001]\n",
    "\n",
    "for e, lr in zip(epochs, learning_rates):\n",
    "    model.compile(optimizer=Adam(lr=lr), loss='binary_crossentropy', metrics=['accuracy'])\n",
    "    model.fit_generator(flow, steps_per_epoch=260, nb_epoch=e, validation_data=validation_generator, validation_steps=63)\n",
    "\n",
    "for layer in resnet.layers[-10:]:\n",
    "    layer.trainable = True\n",
    "\n",
    "epochs = [100, 30]\n",
    "learning_rates = [0.0001, 0.00001]\n",
    "\n",
    "for e, lr in zip(epochs, learning_rates):\n",
    "    model.compile(optimizer=Adam(lr=lr), loss='binary_crossentropy', metrics=['accuracy'])\n",
    "    model.fit_generator(flow, steps_per_epoch=260, nb_epoch=e, validation_data=validation_generator, validation_steps=63)"
   ]
  },
  {
   "cell_type": "markdown",
   "metadata": {},
   "source": [
    "resnet"
   ]
  },
  {
   "cell_type": "code",
   "execution_count": null,
   "metadata": {
    "collapsed": true
   },
   "outputs": [],
   "source": []
  }
 ],
 "metadata": {
  "anaconda-cloud": {},
  "kernelspec": {
   "display_name": "Python 3",
   "language": "python",
   "name": "python3"
  },
  "language_info": {
   "codemirror_mode": {
    "name": "ipython",
    "version": 3
   },
   "file_extension": ".py",
   "mimetype": "text/x-python",
   "name": "python",
   "nbconvert_exporter": "python",
   "pygments_lexer": "ipython3",
   "version": "3.6.1"
  }
 },
 "nbformat": 4,
 "nbformat_minor": 2
}
